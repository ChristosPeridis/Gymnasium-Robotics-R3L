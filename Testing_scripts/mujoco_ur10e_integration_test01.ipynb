{
 "cells": [
  {
   "cell_type": "code",
   "execution_count": null,
   "metadata": {},
   "outputs": [],
   "source": [
    "# Markdown Cell: Introduction and library imports\n",
    "\"\"\"\n",
    "# MuJoCo Simulation\n",
    "This notebook demonstrates how to set up and run a basic simulation using the MuJoCo physics engine.\n",
    "\"\"\"\n",
    "\n",
    "# Code Cell: Importing libraries\n",
    "import mujoco\n",
    "from gymnasium.envs.mujoco.mujoco_rendering import MujocoRenderer\n",
    "\n",
    "# Markdown Cell: Loading the MuJoCo model\n",
    "\"\"\"\n",
    "## Load the MuJoCo Model\n",
    "Load a MuJoCo model from an XML file.\n",
    "\"\"\"\n",
    "\n",
    "# Code Cell: Loading the model\n",
    "model = mujoco.MjModel.from_xml_path(\"universal_robots_ur10e/scene.xml\")\n",
    "\n",
    "# Markdown Cell: Creating a Data object\n",
    "\"\"\"\n",
    "## Create a Data Object\n",
    "Create a data object for the simulation.\n",
    "\"\"\"\n",
    "\n",
    "# Code Cell: Creating data object\n",
    "data = mujoco.MjData(model)\n",
    "\n",
    "# Markdown Cell: Running a Simulation Step\n",
    "\"\"\"\n",
    "## Simulation Step\n",
    "Perform a simulation step.\n",
    "\"\"\"\n",
    "\n",
    "# Code Cell: Simulation step\n",
    "mujoco.mj_step(model, data)\n",
    "\n",
    "# Markdown Cell: Rendering the Simulation\n",
    "\"\"\"\n",
    "## Render the Simulation\n",
    "Use the Gymnasium's MuJoCo renderer to visualize the simulation.\n",
    "\"\"\"\n",
    "\n",
    "# Code Cell: Rendering\n",
    "renderer = MujocoRenderer(model, data)\n",
    "renderer.render(render_mode=\"human\")\n"
   ]
  }
 ],
 "metadata": {
  "language_info": {
   "name": "python"
  }
 },
 "nbformat": 4,
 "nbformat_minor": 2
}
